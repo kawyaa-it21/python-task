{
  "nbformat": 4,
  "nbformat_minor": 0,
  "metadata": {
    "colab": {
      "provenance": []
    },
    "kernelspec": {
      "name": "python3",
      "display_name": "Python 3"
    },
    "language_info": {
      "name": "python"
    }
  },
  "cells": [
    {
      "cell_type": "code",
      "source": [
        "import pandas as pd\n",
        "from sklearn.model_selection import train_test_split\n",
        "from sklearn.preprocessing import LabelEncoder\n",
        "from sklearn.linear_model import LogisticRegression\n",
        "from sklearn.metrics import accuracy_score, confusion_matrix"
      ],
      "metadata": {
        "id": "7vUal2ypjfmO"
      },
      "execution_count": 11,
      "outputs": []
    },
    {
      "cell_type": "code",
      "source": [],
      "metadata": {
        "id": "r4AoWYKJkcYH"
      },
      "execution_count": null,
      "outputs": []
    },
    {
      "cell_type": "code",
      "source": [
        "# Load the data\n",
        "data = pd.read_csv('/content/apple_quality.csv', header=0)"
      ],
      "metadata": {
        "id": "tCPvIcrkjtmG"
      },
      "execution_count": 13,
      "outputs": []
    },
    {
      "cell_type": "markdown",
      "source": [],
      "metadata": {
        "id": "bWeGhfX9kh0u"
      }
    },
    {
      "cell_type": "code",
      "source": [
        "# Preprocess the data\n",
        "labelencoder = LabelEncoder()\n",
        "data['A_id'] = labelencoder.fit_transform(data['A_id'])\n",
        "data['Size'] = labelencoder.fit_transform(data['Size'])\n",
        "data['Weight'] = labelencoder.fit_transform(data['Weight'])\n",
        "data['Sweetness'] = labelencoder.fit_transform(data['Sweetness'])\n",
        "data['Crunchiness'] = labelencoder.fit_transform(data['Crunchiness'])\n",
        "data['Juiciness'] = labelencoder.fit_transform(data['Juiciness'])\n",
        "data['Ripeness'] = labelencoder.fit_transform(data['Ripeness'])\n",
        "data['Acidity'] = labelencoder.fit_transform(data['Acidity'])\n",
        "\n",
        "X = data.drop('Quality', axis=1)\n",
        "y = data['Quality']\n",
        "X_train, X_test, y_train, y_test = train_test_split(X, y, test_size=0.2, random_state=42)"
      ],
      "metadata": {
        "id": "es_Sbl5XjxDe"
      },
      "execution_count": 19,
      "outputs": []
    },
    {
      "cell_type": "code",
      "source": [
        "# Train the logistic regression model\n",
        "model = LogisticRegression()\n",
        "model.fit(X_train, y_train)\n",
        "\n",
        "# Make predictions on the testing set\n",
        "y_pred = model.predict(X_test)\n",
        "\n",
        "# Calculate the accuracy of the model\n",
        "accuracy = accuracy_score(y_test, y_pred)\n",
        "print('Accuracy:', accuracy)\n",
        "\n",
        "# Print the confusion matrix\n",
        "cm = confusion_matrix(y_test, y_pred)\n",
        "print('Confusion Matrix:\\n', cm)"
      ],
      "metadata": {
        "colab": {
          "base_uri": "https://localhost:8080/"
        },
        "id": "4O5ykpUwmFcm",
        "outputId": "7b650952-95e0-4941-a766-3291a1e9bb6d"
      },
      "execution_count": 20,
      "outputs": [
        {
          "output_type": "stream",
          "name": "stdout",
          "text": [
            "Accuracy: 0.7203495630461922\n",
            "Confusion Matrix:\n",
            " [[272 119]\n",
            " [105 305]]\n"
          ]
        },
        {
          "output_type": "stream",
          "name": "stderr",
          "text": [
            "/usr/local/lib/python3.10/dist-packages/sklearn/linear_model/_logistic.py:458: ConvergenceWarning: lbfgs failed to converge (status=1):\n",
            "STOP: TOTAL NO. of ITERATIONS REACHED LIMIT.\n",
            "\n",
            "Increase the number of iterations (max_iter) or scale the data as shown in:\n",
            "    https://scikit-learn.org/stable/modules/preprocessing.html\n",
            "Please also refer to the documentation for alternative solver options:\n",
            "    https://scikit-learn.org/stable/modules/linear_model.html#logistic-regression\n",
            "  n_iter_i = _check_optimize_result(\n"
          ]
        }
      ]
    }
  ]
}